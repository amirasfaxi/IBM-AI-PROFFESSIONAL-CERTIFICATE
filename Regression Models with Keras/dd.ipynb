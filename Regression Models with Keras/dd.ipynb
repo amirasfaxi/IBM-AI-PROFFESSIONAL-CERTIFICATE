{
  "nbformat": 4,
  "nbformat_minor": 0,
  "metadata": {
    "colab": {
      "name": "intro_deep_keras_5B.ipynb",
      "provenance": []
    },
    "kernelspec": {
      "name": "python3",
      "display_name": "Python 3"
    },
    "language_info": {
      "name": "python"
    }
  },
  "cells": [
    {
      "cell_type": "markdown",
      "source": [
        "Introduction to Deep Leep Learning and Neural Networks with Keras\n",
        "Week 5 Assignment\n",
        "Build a Regression Model in Keras"
      ],
      "metadata": {
        "id": "tVpI2OZAaOvs"
      }
    },
    {
      "cell_type": "code",
      "execution_count": 1,
      "metadata": {
        "id": "Ilp5siR4aEtV"
      },
      "outputs": [],
      "source": [
        "# import required libraries\n",
        "import pandas as pd # to read csv file into data frame  \n",
        "import numpy as np  # used for working with arrays"
      ]
    },
    {
      "cell_type": "code",
      "source": [
        "# read csv file from the given link into data frame\n",
        "concrete_data=pd.read_csv('https://cocl.us/concrete_data/concrete_data.csv')"
      ],
      "metadata": {
        "id": "R30Ckq_scBvc"
      },
      "execution_count": 2,
      "outputs": []
    },
    {
      "cell_type": "code",
      "source": [
        "# show first 5 rows and predictors of the dataset \n",
        "concrete_data.head()"
      ],
      "metadata": {
        "colab": {
          "base_uri": "https://localhost:8080/",
          "height": 206
        },
        "id": "I0tcZOuIcxDe",
        "outputId": "70a3cf11-afbb-4096-cd92-cc3560a83fcf"
      },
      "execution_count": 3,
      "outputs": [
        {
          "output_type": "execute_result",
          "data": {
            "text/plain": [
              "   Cement  Blast Furnace Slag  Fly Ash  Water  Superplasticizer  \\\n",
              "0   540.0                 0.0      0.0  162.0               2.5   \n",
              "1   540.0                 0.0      0.0  162.0               2.5   \n",
              "2   332.5               142.5      0.0  228.0               0.0   \n",
              "3   332.5               142.5      0.0  228.0               0.0   \n",
              "4   198.6               132.4      0.0  192.0               0.0   \n",
              "\n",
              "   Coarse Aggregate  Fine Aggregate  Age  Strength  \n",
              "0            1040.0           676.0   28     79.99  \n",
              "1            1055.0           676.0   28     61.89  \n",
              "2             932.0           594.0  270     40.27  \n",
              "3             932.0           594.0  365     41.05  \n",
              "4             978.4           825.5  360     44.30  "
            ],
            "text/html": [
              "\n",
              "  <div id=\"df-14744587-bddc-4f57-ab99-87547e8656dd\">\n",
              "    <div class=\"colab-df-container\">\n",
              "      <div>\n",
              "<style scoped>\n",
              "    .dataframe tbody tr th:only-of-type {\n",
              "        vertical-align: middle;\n",
              "    }\n",
              "\n",
              "    .dataframe tbody tr th {\n",
              "        vertical-align: top;\n",
              "    }\n",
              "\n",
              "    .dataframe thead th {\n",
              "        text-align: right;\n",
              "    }\n",
              "</style>\n",
              "<table border=\"1\" class=\"dataframe\">\n",
              "  <thead>\n",
              "    <tr style=\"text-align: right;\">\n",
              "      <th></th>\n",
              "      <th>Cement</th>\n",
              "      <th>Blast Furnace Slag</th>\n",
              "      <th>Fly Ash</th>\n",
              "      <th>Water</th>\n",
              "      <th>Superplasticizer</th>\n",
              "      <th>Coarse Aggregate</th>\n",
              "      <th>Fine Aggregate</th>\n",
              "      <th>Age</th>\n",
              "      <th>Strength</th>\n",
              "    </tr>\n",
              "  </thead>\n",
              "  <tbody>\n",
              "    <tr>\n",
              "      <th>0</th>\n",
              "      <td>540.0</td>\n",
              "      <td>0.0</td>\n",
              "      <td>0.0</td>\n",
              "      <td>162.0</td>\n",
              "      <td>2.5</td>\n",
              "      <td>1040.0</td>\n",
              "      <td>676.0</td>\n",
              "      <td>28</td>\n",
              "      <td>79.99</td>\n",
              "    </tr>\n",
              "    <tr>\n",
              "      <th>1</th>\n",
              "      <td>540.0</td>\n",
              "      <td>0.0</td>\n",
              "      <td>0.0</td>\n",
              "      <td>162.0</td>\n",
              "      <td>2.5</td>\n",
              "      <td>1055.0</td>\n",
              "      <td>676.0</td>\n",
              "      <td>28</td>\n",
              "      <td>61.89</td>\n",
              "    </tr>\n",
              "    <tr>\n",
              "      <th>2</th>\n",
              "      <td>332.5</td>\n",
              "      <td>142.5</td>\n",
              "      <td>0.0</td>\n",
              "      <td>228.0</td>\n",
              "      <td>0.0</td>\n",
              "      <td>932.0</td>\n",
              "      <td>594.0</td>\n",
              "      <td>270</td>\n",
              "      <td>40.27</td>\n",
              "    </tr>\n",
              "    <tr>\n",
              "      <th>3</th>\n",
              "      <td>332.5</td>\n",
              "      <td>142.5</td>\n",
              "      <td>0.0</td>\n",
              "      <td>228.0</td>\n",
              "      <td>0.0</td>\n",
              "      <td>932.0</td>\n",
              "      <td>594.0</td>\n",
              "      <td>365</td>\n",
              "      <td>41.05</td>\n",
              "    </tr>\n",
              "    <tr>\n",
              "      <th>4</th>\n",
              "      <td>198.6</td>\n",
              "      <td>132.4</td>\n",
              "      <td>0.0</td>\n",
              "      <td>192.0</td>\n",
              "      <td>0.0</td>\n",
              "      <td>978.4</td>\n",
              "      <td>825.5</td>\n",
              "      <td>360</td>\n",
              "      <td>44.30</td>\n",
              "    </tr>\n",
              "  </tbody>\n",
              "</table>\n",
              "</div>\n",
              "      <button class=\"colab-df-convert\" onclick=\"convertToInteractive('df-14744587-bddc-4f57-ab99-87547e8656dd')\"\n",
              "              title=\"Convert this dataframe to an interactive table.\"\n",
              "              style=\"display:none;\">\n",
              "        \n",
              "  <svg xmlns=\"http://www.w3.org/2000/svg\" height=\"24px\"viewBox=\"0 0 24 24\"\n",
              "       width=\"24px\">\n",
              "    <path d=\"M0 0h24v24H0V0z\" fill=\"none\"/>\n",
              "    <path d=\"M18.56 5.44l.94 2.06.94-2.06 2.06-.94-2.06-.94-.94-2.06-.94 2.06-2.06.94zm-11 1L8.5 8.5l.94-2.06 2.06-.94-2.06-.94L8.5 2.5l-.94 2.06-2.06.94zm10 10l.94 2.06.94-2.06 2.06-.94-2.06-.94-.94-2.06-.94 2.06-2.06.94z\"/><path d=\"M17.41 7.96l-1.37-1.37c-.4-.4-.92-.59-1.43-.59-.52 0-1.04.2-1.43.59L10.3 9.45l-7.72 7.72c-.78.78-.78 2.05 0 2.83L4 21.41c.39.39.9.59 1.41.59.51 0 1.02-.2 1.41-.59l7.78-7.78 2.81-2.81c.8-.78.8-2.07 0-2.86zM5.41 20L4 18.59l7.72-7.72 1.47 1.35L5.41 20z\"/>\n",
              "  </svg>\n",
              "      </button>\n",
              "      \n",
              "  <style>\n",
              "    .colab-df-container {\n",
              "      display:flex;\n",
              "      flex-wrap:wrap;\n",
              "      gap: 12px;\n",
              "    }\n",
              "\n",
              "    .colab-df-convert {\n",
              "      background-color: #E8F0FE;\n",
              "      border: none;\n",
              "      border-radius: 50%;\n",
              "      cursor: pointer;\n",
              "      display: none;\n",
              "      fill: #1967D2;\n",
              "      height: 32px;\n",
              "      padding: 0 0 0 0;\n",
              "      width: 32px;\n",
              "    }\n",
              "\n",
              "    .colab-df-convert:hover {\n",
              "      background-color: #E2EBFA;\n",
              "      box-shadow: 0px 1px 2px rgba(60, 64, 67, 0.3), 0px 1px 3px 1px rgba(60, 64, 67, 0.15);\n",
              "      fill: #174EA6;\n",
              "    }\n",
              "\n",
              "    [theme=dark] .colab-df-convert {\n",
              "      background-color: #3B4455;\n",
              "      fill: #D2E3FC;\n",
              "    }\n",
              "\n",
              "    [theme=dark] .colab-df-convert:hover {\n",
              "      background-color: #434B5C;\n",
              "      box-shadow: 0px 1px 3px 1px rgba(0, 0, 0, 0.15);\n",
              "      filter: drop-shadow(0px 1px 2px rgba(0, 0, 0, 0.3));\n",
              "      fill: #FFFFFF;\n",
              "    }\n",
              "  </style>\n",
              "\n",
              "      <script>\n",
              "        const buttonEl =\n",
              "          document.querySelector('#df-14744587-bddc-4f57-ab99-87547e8656dd button.colab-df-convert');\n",
              "        buttonEl.style.display =\n",
              "          google.colab.kernel.accessAllowed ? 'block' : 'none';\n",
              "\n",
              "        async function convertToInteractive(key) {\n",
              "          const element = document.querySelector('#df-14744587-bddc-4f57-ab99-87547e8656dd');\n",
              "          const dataTable =\n",
              "            await google.colab.kernel.invokeFunction('convertToInteractive',\n",
              "                                                     [key], {});\n",
              "          if (!dataTable) return;\n",
              "\n",
              "          const docLinkHtml = 'Like what you see? Visit the ' +\n",
              "            '<a target=\"_blank\" href=https://colab.research.google.com/notebooks/data_table.ipynb>data table notebook</a>'\n",
              "            + ' to learn more about interactive tables.';\n",
              "          element.innerHTML = '';\n",
              "          dataTable['output_type'] = 'display_data';\n",
              "          await google.colab.output.renderOutput(dataTable, element);\n",
              "          const docLink = document.createElement('div');\n",
              "          docLink.innerHTML = docLinkHtml;\n",
              "          element.appendChild(docLink);\n",
              "        }\n",
              "      </script>\n",
              "    </div>\n",
              "  </div>\n",
              "  "
            ]
          },
          "metadata": {},
          "execution_count": 3
        }
      ]
    },
    {
      "cell_type": "code",
      "source": [
        "concrete_data.shape"
      ],
      "metadata": {
        "colab": {
          "base_uri": "https://localhost:8080/"
        },
        "id": "amz9NoWzfo2q",
        "outputId": "b4c7a676-2ffd-4b4c-bfe0-1025554f5785"
      },
      "execution_count": 4,
      "outputs": [
        {
          "output_type": "execute_result",
          "data": {
            "text/plain": [
              "(1030, 9)"
            ]
          },
          "metadata": {},
          "execution_count": 4
        }
      ]
    },
    {
      "cell_type": "markdown",
      "source": [
        "Data set has 1030 samples and 8 predictors to predict the target value which is concrete strength\n"
      ],
      "metadata": {
        "id": "CC-AAw2Zf52T"
      }
    },
    {
      "cell_type": "markdown",
      "source": [
        "Concrete strength is depepndent on Cement, Blast Furnace slag, Fly Ash, Water, Superlasticizer, Coarse Aggregate, Fine Aggregate and Age of cement"
      ],
      "metadata": {
        "id": "ahefgSy4gInU"
      }
    },
    {
      "cell_type": "markdown",
      "source": [
        "Check if the data set has any missing value"
      ],
      "metadata": {
        "id": "CYfvhzkagm3W"
      }
    },
    {
      "cell_type": "code",
      "source": [
        "concrete_data.isnull().sum()"
      ],
      "metadata": {
        "colab": {
          "base_uri": "https://localhost:8080/"
        },
        "id": "YEr5iHLjgcZ1",
        "outputId": "a786a74d-8e82-41c2-f483-648b795b5ec8"
      },
      "execution_count": 5,
      "outputs": [
        {
          "output_type": "execute_result",
          "data": {
            "text/plain": [
              "Cement                0\n",
              "Blast Furnace Slag    0\n",
              "Fly Ash               0\n",
              "Water                 0\n",
              "Superplasticizer      0\n",
              "Coarse Aggregate      0\n",
              "Fine Aggregate        0\n",
              "Age                   0\n",
              "Strength              0\n",
              "dtype: int64"
            ]
          },
          "metadata": {},
          "execution_count": 5
        }
      ]
    },
    {
      "cell_type": "markdown",
      "source": [
        "There is no null value/missing value in the given dataset"
      ],
      "metadata": {
        "id": "5YgxN4s4gwCq"
      }
    },
    {
      "cell_type": "code",
      "source": [
        "predictors = concrete_data[['Cement','Blast Furnace Slag','Fly Ash','Water','Superplasticizer','Coarse Aggregate','Fine Aggregate','Age']] # all columns except 'Strngth' are predictors \n",
        "target = concrete_data['Strength'] # Target is Strength"
      ],
      "metadata": {
        "id": "FCMCAJ7Ag2AS"
      },
      "execution_count": 6,
      "outputs": []
    },
    {
      "cell_type": "code",
      "source": [
        "# check predictors\n",
        "predictors.head()"
      ],
      "metadata": {
        "colab": {
          "base_uri": "https://localhost:8080/",
          "height": 206
        },
        "id": "p4l6059AjzfN",
        "outputId": "5b88169c-6d9d-4e4d-c20f-9eb522e929b8"
      },
      "execution_count": 7,
      "outputs": [
        {
          "output_type": "execute_result",
          "data": {
            "text/plain": [
              "   Cement  Blast Furnace Slag  Fly Ash  Water  Superplasticizer  \\\n",
              "0   540.0                 0.0      0.0  162.0               2.5   \n",
              "1   540.0                 0.0      0.0  162.0               2.5   \n",
              "2   332.5               142.5      0.0  228.0               0.0   \n",
              "3   332.5               142.5      0.0  228.0               0.0   \n",
              "4   198.6               132.4      0.0  192.0               0.0   \n",
              "\n",
              "   Coarse Aggregate  Fine Aggregate  Age  \n",
              "0            1040.0           676.0   28  \n",
              "1            1055.0           676.0   28  \n",
              "2             932.0           594.0  270  \n",
              "3             932.0           594.0  365  \n",
              "4             978.4           825.5  360  "
            ],
            "text/html": [
              "\n",
              "  <div id=\"df-8d6d38f6-4931-40e4-a1a9-0f0c5a6ed0e3\">\n",
              "    <div class=\"colab-df-container\">\n",
              "      <div>\n",
              "<style scoped>\n",
              "    .dataframe tbody tr th:only-of-type {\n",
              "        vertical-align: middle;\n",
              "    }\n",
              "\n",
              "    .dataframe tbody tr th {\n",
              "        vertical-align: top;\n",
              "    }\n",
              "\n",
              "    .dataframe thead th {\n",
              "        text-align: right;\n",
              "    }\n",
              "</style>\n",
              "<table border=\"1\" class=\"dataframe\">\n",
              "  <thead>\n",
              "    <tr style=\"text-align: right;\">\n",
              "      <th></th>\n",
              "      <th>Cement</th>\n",
              "      <th>Blast Furnace Slag</th>\n",
              "      <th>Fly Ash</th>\n",
              "      <th>Water</th>\n",
              "      <th>Superplasticizer</th>\n",
              "      <th>Coarse Aggregate</th>\n",
              "      <th>Fine Aggregate</th>\n",
              "      <th>Age</th>\n",
              "    </tr>\n",
              "  </thead>\n",
              "  <tbody>\n",
              "    <tr>\n",
              "      <th>0</th>\n",
              "      <td>540.0</td>\n",
              "      <td>0.0</td>\n",
              "      <td>0.0</td>\n",
              "      <td>162.0</td>\n",
              "      <td>2.5</td>\n",
              "      <td>1040.0</td>\n",
              "      <td>676.0</td>\n",
              "      <td>28</td>\n",
              "    </tr>\n",
              "    <tr>\n",
              "      <th>1</th>\n",
              "      <td>540.0</td>\n",
              "      <td>0.0</td>\n",
              "      <td>0.0</td>\n",
              "      <td>162.0</td>\n",
              "      <td>2.5</td>\n",
              "      <td>1055.0</td>\n",
              "      <td>676.0</td>\n",
              "      <td>28</td>\n",
              "    </tr>\n",
              "    <tr>\n",
              "      <th>2</th>\n",
              "      <td>332.5</td>\n",
              "      <td>142.5</td>\n",
              "      <td>0.0</td>\n",
              "      <td>228.0</td>\n",
              "      <td>0.0</td>\n",
              "      <td>932.0</td>\n",
              "      <td>594.0</td>\n",
              "      <td>270</td>\n",
              "    </tr>\n",
              "    <tr>\n",
              "      <th>3</th>\n",
              "      <td>332.5</td>\n",
              "      <td>142.5</td>\n",
              "      <td>0.0</td>\n",
              "      <td>228.0</td>\n",
              "      <td>0.0</td>\n",
              "      <td>932.0</td>\n",
              "      <td>594.0</td>\n",
              "      <td>365</td>\n",
              "    </tr>\n",
              "    <tr>\n",
              "      <th>4</th>\n",
              "      <td>198.6</td>\n",
              "      <td>132.4</td>\n",
              "      <td>0.0</td>\n",
              "      <td>192.0</td>\n",
              "      <td>0.0</td>\n",
              "      <td>978.4</td>\n",
              "      <td>825.5</td>\n",
              "      <td>360</td>\n",
              "    </tr>\n",
              "  </tbody>\n",
              "</table>\n",
              "</div>\n",
              "      <button class=\"colab-df-convert\" onclick=\"convertToInteractive('df-8d6d38f6-4931-40e4-a1a9-0f0c5a6ed0e3')\"\n",
              "              title=\"Convert this dataframe to an interactive table.\"\n",
              "              style=\"display:none;\">\n",
              "        \n",
              "  <svg xmlns=\"http://www.w3.org/2000/svg\" height=\"24px\"viewBox=\"0 0 24 24\"\n",
              "       width=\"24px\">\n",
              "    <path d=\"M0 0h24v24H0V0z\" fill=\"none\"/>\n",
              "    <path d=\"M18.56 5.44l.94 2.06.94-2.06 2.06-.94-2.06-.94-.94-2.06-.94 2.06-2.06.94zm-11 1L8.5 8.5l.94-2.06 2.06-.94-2.06-.94L8.5 2.5l-.94 2.06-2.06.94zm10 10l.94 2.06.94-2.06 2.06-.94-2.06-.94-.94-2.06-.94 2.06-2.06.94z\"/><path d=\"M17.41 7.96l-1.37-1.37c-.4-.4-.92-.59-1.43-.59-.52 0-1.04.2-1.43.59L10.3 9.45l-7.72 7.72c-.78.78-.78 2.05 0 2.83L4 21.41c.39.39.9.59 1.41.59.51 0 1.02-.2 1.41-.59l7.78-7.78 2.81-2.81c.8-.78.8-2.07 0-2.86zM5.41 20L4 18.59l7.72-7.72 1.47 1.35L5.41 20z\"/>\n",
              "  </svg>\n",
              "      </button>\n",
              "      \n",
              "  <style>\n",
              "    .colab-df-container {\n",
              "      display:flex;\n",
              "      flex-wrap:wrap;\n",
              "      gap: 12px;\n",
              "    }\n",
              "\n",
              "    .colab-df-convert {\n",
              "      background-color: #E8F0FE;\n",
              "      border: none;\n",
              "      border-radius: 50%;\n",
              "      cursor: pointer;\n",
              "      display: none;\n",
              "      fill: #1967D2;\n",
              "      height: 32px;\n",
              "      padding: 0 0 0 0;\n",
              "      width: 32px;\n",
              "    }\n",
              "\n",
              "    .colab-df-convert:hover {\n",
              "      background-color: #E2EBFA;\n",
              "      box-shadow: 0px 1px 2px rgba(60, 64, 67, 0.3), 0px 1px 3px 1px rgba(60, 64, 67, 0.15);\n",
              "      fill: #174EA6;\n",
              "    }\n",
              "\n",
              "    [theme=dark] .colab-df-convert {\n",
              "      background-color: #3B4455;\n",
              "      fill: #D2E3FC;\n",
              "    }\n",
              "\n",
              "    [theme=dark] .colab-df-convert:hover {\n",
              "      background-color: #434B5C;\n",
              "      box-shadow: 0px 1px 3px 1px rgba(0, 0, 0, 0.15);\n",
              "      filter: drop-shadow(0px 1px 2px rgba(0, 0, 0, 0.3));\n",
              "      fill: #FFFFFF;\n",
              "    }\n",
              "  </style>\n",
              "\n",
              "      <script>\n",
              "        const buttonEl =\n",
              "          document.querySelector('#df-8d6d38f6-4931-40e4-a1a9-0f0c5a6ed0e3 button.colab-df-convert');\n",
              "        buttonEl.style.display =\n",
              "          google.colab.kernel.accessAllowed ? 'block' : 'none';\n",
              "\n",
              "        async function convertToInteractive(key) {\n",
              "          const element = document.querySelector('#df-8d6d38f6-4931-40e4-a1a9-0f0c5a6ed0e3');\n",
              "          const dataTable =\n",
              "            await google.colab.kernel.invokeFunction('convertToInteractive',\n",
              "                                                     [key], {});\n",
              "          if (!dataTable) return;\n",
              "\n",
              "          const docLinkHtml = 'Like what you see? Visit the ' +\n",
              "            '<a target=\"_blank\" href=https://colab.research.google.com/notebooks/data_table.ipynb>data table notebook</a>'\n",
              "            + ' to learn more about interactive tables.';\n",
              "          element.innerHTML = '';\n",
              "          dataTable['output_type'] = 'display_data';\n",
              "          await google.colab.output.renderOutput(dataTable, element);\n",
              "          const docLink = document.createElement('div');\n",
              "          docLink.innerHTML = docLinkHtml;\n",
              "          element.appendChild(docLink);\n",
              "        }\n",
              "      </script>\n",
              "    </div>\n",
              "  </div>\n",
              "  "
            ]
          },
          "metadata": {},
          "execution_count": 7
        }
      ]
    },
    {
      "cell_type": "code",
      "source": [
        "[row,col]=predictors.shape\n",
        "print('Number of columns are: ',col)"
      ],
      "metadata": {
        "colab": {
          "base_uri": "https://localhost:8080/"
        },
        "id": "QvcK4M3MlRn5",
        "outputId": "8640cf2a-0d97-44fc-80b4-0ac330079a4d"
      },
      "execution_count": 8,
      "outputs": [
        {
          "output_type": "stream",
          "name": "stdout",
          "text": [
            "Number of columns are:  8\n"
          ]
        }
      ]
    },
    {
      "cell_type": "code",
      "source": [
        "# check target\n",
        "target.head()"
      ],
      "metadata": {
        "colab": {
          "base_uri": "https://localhost:8080/"
        },
        "id": "MRwGzJsukDyH",
        "outputId": "6125d0b0-f3c5-478e-f14d-485ca037dfc7"
      },
      "execution_count": 9,
      "outputs": [
        {
          "output_type": "execute_result",
          "data": {
            "text/plain": [
              "0    79.99\n",
              "1    61.89\n",
              "2    40.27\n",
              "3    41.05\n",
              "4    44.30\n",
              "Name: Strength, dtype: float64"
            ]
          },
          "metadata": {},
          "execution_count": 9
        }
      ]
    },
    {
      "cell_type": "markdown",
      "source": [
        "Normalize data by using standard method\n",
        "to reduce mean of each column to zero and convert standard deviation to 1\n",
        "normalized data = (data-mean of data)/standard deviation"
      ],
      "metadata": {
        "id": "MrpUDgoPTqxs"
      }
    },
    {
      "cell_type": "code",
      "source": [
        "# mean of predictors\n",
        "m = predictors.mean()\n",
        "# standard deviation of predictors\n",
        "s=predictors.std()\n",
        "predictors_normalized = (predictors - m) / s\n"
      ],
      "metadata": {
        "id": "XqWZLXT9UBX4"
      },
      "execution_count": 10,
      "outputs": []
    },
    {
      "cell_type": "code",
      "source": [
        "# check normalized data\n",
        "predictors_normalized.head()"
      ],
      "metadata": {
        "colab": {
          "base_uri": "https://localhost:8080/",
          "height": 206
        },
        "id": "VLV-2Ib1UeAp",
        "outputId": "9fd2e990-8ca6-486d-e794-ae8403be7661"
      },
      "execution_count": 12,
      "outputs": [
        {
          "output_type": "execute_result",
          "data": {
            "text/plain": [
              "     Cement  Blast Furnace Slag   Fly Ash     Water  Superplasticizer  \\\n",
              "0  2.476712           -0.856472 -0.846733 -0.916319         -0.620147   \n",
              "1  2.476712           -0.856472 -0.846733 -0.916319         -0.620147   \n",
              "2  0.491187            0.795140 -0.846733  2.174405         -1.038638   \n",
              "3  0.491187            0.795140 -0.846733  2.174405         -1.038638   \n",
              "4 -0.790075            0.678079 -0.846733  0.488555         -1.038638   \n",
              "\n",
              "   Coarse Aggregate  Fine Aggregate       Age  \n",
              "0          0.862735       -1.217079 -0.279597  \n",
              "1          1.055651       -1.217079 -0.279597  \n",
              "2         -0.526262       -2.239829  3.551340  \n",
              "3         -0.526262       -2.239829  5.055221  \n",
              "4          0.070492        0.647569  4.976069  "
            ],
            "text/html": [
              "\n",
              "  <div id=\"df-6c89d3db-6378-4fdb-af90-7e933d92d05b\">\n",
              "    <div class=\"colab-df-container\">\n",
              "      <div>\n",
              "<style scoped>\n",
              "    .dataframe tbody tr th:only-of-type {\n",
              "        vertical-align: middle;\n",
              "    }\n",
              "\n",
              "    .dataframe tbody tr th {\n",
              "        vertical-align: top;\n",
              "    }\n",
              "\n",
              "    .dataframe thead th {\n",
              "        text-align: right;\n",
              "    }\n",
              "</style>\n",
              "<table border=\"1\" class=\"dataframe\">\n",
              "  <thead>\n",
              "    <tr style=\"text-align: right;\">\n",
              "      <th></th>\n",
              "      <th>Cement</th>\n",
              "      <th>Blast Furnace Slag</th>\n",
              "      <th>Fly Ash</th>\n",
              "      <th>Water</th>\n",
              "      <th>Superplasticizer</th>\n",
              "      <th>Coarse Aggregate</th>\n",
              "      <th>Fine Aggregate</th>\n",
              "      <th>Age</th>\n",
              "    </tr>\n",
              "  </thead>\n",
              "  <tbody>\n",
              "    <tr>\n",
              "      <th>0</th>\n",
              "      <td>2.476712</td>\n",
              "      <td>-0.856472</td>\n",
              "      <td>-0.846733</td>\n",
              "      <td>-0.916319</td>\n",
              "      <td>-0.620147</td>\n",
              "      <td>0.862735</td>\n",
              "      <td>-1.217079</td>\n",
              "      <td>-0.279597</td>\n",
              "    </tr>\n",
              "    <tr>\n",
              "      <th>1</th>\n",
              "      <td>2.476712</td>\n",
              "      <td>-0.856472</td>\n",
              "      <td>-0.846733</td>\n",
              "      <td>-0.916319</td>\n",
              "      <td>-0.620147</td>\n",
              "      <td>1.055651</td>\n",
              "      <td>-1.217079</td>\n",
              "      <td>-0.279597</td>\n",
              "    </tr>\n",
              "    <tr>\n",
              "      <th>2</th>\n",
              "      <td>0.491187</td>\n",
              "      <td>0.795140</td>\n",
              "      <td>-0.846733</td>\n",
              "      <td>2.174405</td>\n",
              "      <td>-1.038638</td>\n",
              "      <td>-0.526262</td>\n",
              "      <td>-2.239829</td>\n",
              "      <td>3.551340</td>\n",
              "    </tr>\n",
              "    <tr>\n",
              "      <th>3</th>\n",
              "      <td>0.491187</td>\n",
              "      <td>0.795140</td>\n",
              "      <td>-0.846733</td>\n",
              "      <td>2.174405</td>\n",
              "      <td>-1.038638</td>\n",
              "      <td>-0.526262</td>\n",
              "      <td>-2.239829</td>\n",
              "      <td>5.055221</td>\n",
              "    </tr>\n",
              "    <tr>\n",
              "      <th>4</th>\n",
              "      <td>-0.790075</td>\n",
              "      <td>0.678079</td>\n",
              "      <td>-0.846733</td>\n",
              "      <td>0.488555</td>\n",
              "      <td>-1.038638</td>\n",
              "      <td>0.070492</td>\n",
              "      <td>0.647569</td>\n",
              "      <td>4.976069</td>\n",
              "    </tr>\n",
              "  </tbody>\n",
              "</table>\n",
              "</div>\n",
              "      <button class=\"colab-df-convert\" onclick=\"convertToInteractive('df-6c89d3db-6378-4fdb-af90-7e933d92d05b')\"\n",
              "              title=\"Convert this dataframe to an interactive table.\"\n",
              "              style=\"display:none;\">\n",
              "        \n",
              "  <svg xmlns=\"http://www.w3.org/2000/svg\" height=\"24px\"viewBox=\"0 0 24 24\"\n",
              "       width=\"24px\">\n",
              "    <path d=\"M0 0h24v24H0V0z\" fill=\"none\"/>\n",
              "    <path d=\"M18.56 5.44l.94 2.06.94-2.06 2.06-.94-2.06-.94-.94-2.06-.94 2.06-2.06.94zm-11 1L8.5 8.5l.94-2.06 2.06-.94-2.06-.94L8.5 2.5l-.94 2.06-2.06.94zm10 10l.94 2.06.94-2.06 2.06-.94-2.06-.94-.94-2.06-.94 2.06-2.06.94z\"/><path d=\"M17.41 7.96l-1.37-1.37c-.4-.4-.92-.59-1.43-.59-.52 0-1.04.2-1.43.59L10.3 9.45l-7.72 7.72c-.78.78-.78 2.05 0 2.83L4 21.41c.39.39.9.59 1.41.59.51 0 1.02-.2 1.41-.59l7.78-7.78 2.81-2.81c.8-.78.8-2.07 0-2.86zM5.41 20L4 18.59l7.72-7.72 1.47 1.35L5.41 20z\"/>\n",
              "  </svg>\n",
              "      </button>\n",
              "      \n",
              "  <style>\n",
              "    .colab-df-container {\n",
              "      display:flex;\n",
              "      flex-wrap:wrap;\n",
              "      gap: 12px;\n",
              "    }\n",
              "\n",
              "    .colab-df-convert {\n",
              "      background-color: #E8F0FE;\n",
              "      border: none;\n",
              "      border-radius: 50%;\n",
              "      cursor: pointer;\n",
              "      display: none;\n",
              "      fill: #1967D2;\n",
              "      height: 32px;\n",
              "      padding: 0 0 0 0;\n",
              "      width: 32px;\n",
              "    }\n",
              "\n",
              "    .colab-df-convert:hover {\n",
              "      background-color: #E2EBFA;\n",
              "      box-shadow: 0px 1px 2px rgba(60, 64, 67, 0.3), 0px 1px 3px 1px rgba(60, 64, 67, 0.15);\n",
              "      fill: #174EA6;\n",
              "    }\n",
              "\n",
              "    [theme=dark] .colab-df-convert {\n",
              "      background-color: #3B4455;\n",
              "      fill: #D2E3FC;\n",
              "    }\n",
              "\n",
              "    [theme=dark] .colab-df-convert:hover {\n",
              "      background-color: #434B5C;\n",
              "      box-shadow: 0px 1px 3px 1px rgba(0, 0, 0, 0.15);\n",
              "      filter: drop-shadow(0px 1px 2px rgba(0, 0, 0, 0.3));\n",
              "      fill: #FFFFFF;\n",
              "    }\n",
              "  </style>\n",
              "\n",
              "      <script>\n",
              "        const buttonEl =\n",
              "          document.querySelector('#df-6c89d3db-6378-4fdb-af90-7e933d92d05b button.colab-df-convert');\n",
              "        buttonEl.style.display =\n",
              "          google.colab.kernel.accessAllowed ? 'block' : 'none';\n",
              "\n",
              "        async function convertToInteractive(key) {\n",
              "          const element = document.querySelector('#df-6c89d3db-6378-4fdb-af90-7e933d92d05b');\n",
              "          const dataTable =\n",
              "            await google.colab.kernel.invokeFunction('convertToInteractive',\n",
              "                                                     [key], {});\n",
              "          if (!dataTable) return;\n",
              "\n",
              "          const docLinkHtml = 'Like what you see? Visit the ' +\n",
              "            '<a target=\"_blank\" href=https://colab.research.google.com/notebooks/data_table.ipynb>data table notebook</a>'\n",
              "            + ' to learn more about interactive tables.';\n",
              "          element.innerHTML = '';\n",
              "          dataTable['output_type'] = 'display_data';\n",
              "          await google.colab.output.renderOutput(dataTable, element);\n",
              "          const docLink = document.createElement('div');\n",
              "          docLink.innerHTML = docLinkHtml;\n",
              "          element.appendChild(docLink);\n",
              "        }\n",
              "      </script>\n",
              "    </div>\n",
              "  </div>\n",
              "  "
            ]
          },
          "metadata": {},
          "execution_count": 12
        }
      ]
    },
    {
      "cell_type": "code",
      "source": [
        "# import keras for builiding and fitting the model\n",
        "import keras \n",
        "from keras.models import Sequential  # model type\n",
        "from keras.layers import Dense  # hidden layers"
      ],
      "metadata": {
        "id": "_wbVVz2ukKDW"
      },
      "execution_count": 13,
      "outputs": []
    },
    {
      "cell_type": "code",
      "source": [
        "# definition to build regression model\n",
        "def regression_model():\n",
        "    # sequential type\n",
        "    reg_model = Sequential()\n",
        "    # 10 nodes in hidden layer, number of predictor columns in input layer\n",
        "    reg_model.add(Dense(10, activation='relu', input_shape=(col,)))\n",
        "    # one node in output layer \n",
        "    reg_model.add(Dense(1))\n",
        "    \n",
        "    # compile model\n",
        "    reg_model.compile(optimizer='adam', loss='mean_squared_error')\n",
        "    return reg_model"
      ],
      "metadata": {
        "id": "0VnsAtpvkzWg"
      },
      "execution_count": 14,
      "outputs": []
    },
    {
      "cell_type": "markdown",
      "source": [
        "Using library sklearn, rRandomly split dataframe into train and test sets "
      ],
      "metadata": {
        "id": "vSp9acvUmOFS"
      }
    },
    {
      "cell_type": "code",
      "source": [
        "from sklearn.model_selection import train_test_split"
      ],
      "metadata": {
        "id": "dzPS3ClRmOjZ"
      },
      "execution_count": 15,
      "outputs": []
    },
    {
      "cell_type": "markdown",
      "source": [
        "80% of the datframe is train and 20% is test\n",
        "Seed of random state is fixed which uses the same split even if this code is executed multiple times  "
      ],
      "metadata": {
        "id": "mu-BghlHmqin"
      }
    },
    {
      "cell_type": "code",
      "source": [
        "X_train, X_test, y_train, y_test = train_test_split(predictors_normalized, target, test_size=0.2, random_state= 10)"
      ],
      "metadata": {
        "id": "-JAN7yOImiJp"
      },
      "execution_count": 23,
      "outputs": []
    },
    {
      "cell_type": "code",
      "source": [
        "# build the model\n",
        "model = regression_model()"
      ],
      "metadata": {
        "id": "YvQ83LwqnPUW"
      },
      "execution_count": 24,
      "outputs": []
    },
    {
      "cell_type": "code",
      "source": [
        "# train model using 50 epochs\n",
        "epochs = 50\n",
        "model.fit(X_train, y_train, epochs=epochs, verbose=1)"
      ],
      "metadata": {
        "colab": {
          "base_uri": "https://localhost:8080/"
        },
        "id": "3eoYZiR4nc0-",
        "outputId": "70b73489-ceb2-47c1-c36d-a2d3e0bf632a"
      },
      "execution_count": 25,
      "outputs": [
        {
          "output_type": "stream",
          "name": "stdout",
          "text": [
            "Epoch 1/50\n",
            "26/26 [==============================] - 0s 1ms/step - loss: 1496.8855\n",
            "Epoch 2/50\n",
            "26/26 [==============================] - 0s 2ms/step - loss: 1477.7084\n",
            "Epoch 3/50\n",
            "26/26 [==============================] - 0s 2ms/step - loss: 1457.7505\n",
            "Epoch 4/50\n",
            "26/26 [==============================] - 0s 2ms/step - loss: 1436.9232\n",
            "Epoch 5/50\n",
            "26/26 [==============================] - 0s 2ms/step - loss: 1414.8762\n",
            "Epoch 6/50\n",
            "26/26 [==============================] - 0s 2ms/step - loss: 1391.7236\n",
            "Epoch 7/50\n",
            "26/26 [==============================] - 0s 2ms/step - loss: 1367.3219\n",
            "Epoch 8/50\n",
            "26/26 [==============================] - 0s 2ms/step - loss: 1341.6827\n",
            "Epoch 9/50\n",
            "26/26 [==============================] - 0s 2ms/step - loss: 1314.1489\n",
            "Epoch 10/50\n",
            "26/26 [==============================] - 0s 2ms/step - loss: 1285.3156\n",
            "Epoch 11/50\n",
            "26/26 [==============================] - 0s 2ms/step - loss: 1254.8596\n",
            "Epoch 12/50\n",
            "26/26 [==============================] - 0s 2ms/step - loss: 1222.9479\n",
            "Epoch 13/50\n",
            "26/26 [==============================] - 0s 2ms/step - loss: 1189.8501\n",
            "Epoch 14/50\n",
            "26/26 [==============================] - 0s 2ms/step - loss: 1155.5443\n",
            "Epoch 15/50\n",
            "26/26 [==============================] - 0s 2ms/step - loss: 1120.7205\n",
            "Epoch 16/50\n",
            "26/26 [==============================] - 0s 2ms/step - loss: 1084.4851\n",
            "Epoch 17/50\n",
            "26/26 [==============================] - 0s 2ms/step - loss: 1048.3418\n",
            "Epoch 18/50\n",
            "26/26 [==============================] - 0s 2ms/step - loss: 1011.4426\n",
            "Epoch 19/50\n",
            "26/26 [==============================] - 0s 2ms/step - loss: 974.4111\n",
            "Epoch 20/50\n",
            "26/26 [==============================] - 0s 2ms/step - loss: 937.8046\n",
            "Epoch 21/50\n",
            "26/26 [==============================] - 0s 2ms/step - loss: 900.8762\n",
            "Epoch 22/50\n",
            "26/26 [==============================] - 0s 2ms/step - loss: 863.8416\n",
            "Epoch 23/50\n",
            "26/26 [==============================] - 0s 2ms/step - loss: 827.3126\n",
            "Epoch 24/50\n",
            "26/26 [==============================] - 0s 2ms/step - loss: 791.1995\n",
            "Epoch 25/50\n",
            "26/26 [==============================] - 0s 2ms/step - loss: 755.2827\n",
            "Epoch 26/50\n",
            "26/26 [==============================] - 0s 2ms/step - loss: 720.1796\n",
            "Epoch 27/50\n",
            "26/26 [==============================] - 0s 2ms/step - loss: 685.8076\n",
            "Epoch 28/50\n",
            "26/26 [==============================] - 0s 2ms/step - loss: 651.9912\n",
            "Epoch 29/50\n",
            "26/26 [==============================] - 0s 2ms/step - loss: 619.3076\n",
            "Epoch 30/50\n",
            "26/26 [==============================] - 0s 2ms/step - loss: 587.6323\n",
            "Epoch 31/50\n",
            "26/26 [==============================] - 0s 2ms/step - loss: 557.2809\n",
            "Epoch 32/50\n",
            "26/26 [==============================] - 0s 2ms/step - loss: 528.3629\n",
            "Epoch 33/50\n",
            "26/26 [==============================] - 0s 2ms/step - loss: 500.2546\n",
            "Epoch 34/50\n",
            "26/26 [==============================] - 0s 2ms/step - loss: 473.7895\n",
            "Epoch 35/50\n",
            "26/26 [==============================] - 0s 2ms/step - loss: 448.6795\n",
            "Epoch 36/50\n",
            "26/26 [==============================] - 0s 2ms/step - loss: 424.5291\n",
            "Epoch 37/50\n",
            "26/26 [==============================] - 0s 1ms/step - loss: 401.4659\n",
            "Epoch 38/50\n",
            "26/26 [==============================] - 0s 2ms/step - loss: 380.5256\n",
            "Epoch 39/50\n",
            "26/26 [==============================] - 0s 2ms/step - loss: 360.3584\n",
            "Epoch 40/50\n",
            "26/26 [==============================] - 0s 2ms/step - loss: 342.0119\n",
            "Epoch 41/50\n",
            "26/26 [==============================] - 0s 2ms/step - loss: 325.3940\n",
            "Epoch 42/50\n",
            "26/26 [==============================] - 0s 1ms/step - loss: 310.1770\n",
            "Epoch 43/50\n",
            "26/26 [==============================] - 0s 2ms/step - loss: 296.2402\n",
            "Epoch 44/50\n",
            "26/26 [==============================] - 0s 2ms/step - loss: 284.0257\n",
            "Epoch 45/50\n",
            "26/26 [==============================] - 0s 2ms/step - loss: 273.1600\n",
            "Epoch 46/50\n",
            "26/26 [==============================] - 0s 2ms/step - loss: 263.0777\n",
            "Epoch 47/50\n",
            "26/26 [==============================] - 0s 2ms/step - loss: 254.3884\n",
            "Epoch 48/50\n",
            "26/26 [==============================] - 0s 2ms/step - loss: 246.7696\n",
            "Epoch 49/50\n",
            "26/26 [==============================] - 0s 2ms/step - loss: 239.8130\n",
            "Epoch 50/50\n",
            "26/26 [==============================] - 0s 2ms/step - loss: 233.8272\n"
          ]
        },
        {
          "output_type": "execute_result",
          "data": {
            "text/plain": [
              "<keras.callbacks.History at 0x7fcaa1aa0e10>"
            ]
          },
          "metadata": {},
          "execution_count": 25
        }
      ]
    },
    {
      "cell_type": "markdown",
      "source": [
        "Predict concrete strength using trained model"
      ],
      "metadata": {
        "id": "wExZ2u34oyfL"
      }
    },
    {
      "cell_type": "code",
      "source": [
        "y_predict = model.predict(X_test)"
      ],
      "metadata": {
        "id": "cG1FoIdVn2lp"
      },
      "execution_count": 26,
      "outputs": []
    },
    {
      "cell_type": "code",
      "source": [
        "# evaluate model\n",
        "# import library to calculate mean square error\n",
        "from sklearn.metrics import mean_squared_error"
      ],
      "metadata": {
        "id": "UntN-fT7o9LS"
      },
      "execution_count": 27,
      "outputs": []
    },
    {
      "cell_type": "code",
      "source": [
        "mse = mean_squared_error(y_test, y_predict)\n",
        "mean = np.mean(mse)\n",
        "stand_dev = np.std(mse)\n",
        "print('Mean of mean square error after data normalization: ', mean)\n",
        "print('Standard Deviation of mean square error after data normalization: ',stand_dev )"
      ],
      "metadata": {
        "colab": {
          "base_uri": "https://localhost:8080/"
        },
        "id": "fV-MQwIqpigk",
        "outputId": "89096b6b-b09a-4f52-d3f0-6a4b50afc3ab"
      },
      "execution_count": 29,
      "outputs": [
        {
          "output_type": "stream",
          "name": "stdout",
          "text": [
            "Mean of mean square error after data normalization:  240.56533007587092\n",
            "Standard Deviation of mean square error after data normalization:  0.0\n"
          ]
        }
      ]
    },
    {
      "cell_type": "code",
      "source": [
        "numb_mse = 50\n",
        "epochs = 50\n",
        "mean_square_error = []\n",
        "for i in range(0, numb_mse):\n",
        "    X_train, X_test, y_train, y_test = train_test_split(predictors_normalized, target, test_size=0.2, random_state=i)\n",
        "    model.fit(X_train, y_train, epochs=epochs, verbose=0)\n",
        "    mse = model.evaluate(X_test, y_test, verbose=0)\n",
        "    print(\"Mean Squared Error \"+str(i+1)+\": \"+str(mse))\n",
        "    y_predict = model.predict(X_test)\n",
        "    mse_i = mean_squared_error(y_test, y_predict)\n",
        "    mean_square_error.append(mse_i)\n",
        "\n",
        "mean_square_error = np.array(mean_square_error)\n",
        "mean = np.mean(mean_square_error)\n",
        "stand_dev = np.std(mean_square_error)\n",
        "\n",
        "print('With normalized data with number of epochs for training is: ', epochs)\n",
        "print(\"Mean of Mean Squared error : \", mean)\n",
        "print(\"Standard Deviation: \", stand_dev)"
      ],
      "metadata": {
        "colab": {
          "base_uri": "https://localhost:8080/"
        },
        "id": "_Tyk-aXoqaTV",
        "outputId": "2f8e15b1-fbde-4ebe-9656-aad049ccb398"
      },
      "execution_count": 31,
      "outputs": [
        {
          "output_type": "stream",
          "name": "stdout",
          "text": [
            "Mean Squared Error 1: 30.98028564453125\n",
            "Mean Squared Error 2: 42.51603698730469\n",
            "Mean Squared Error 3: 33.13656997680664\n",
            "Mean Squared Error 4: 38.18689727783203\n",
            "Mean Squared Error 5: 38.08090591430664\n",
            "Mean Squared Error 6: 37.70827865600586\n",
            "Mean Squared Error 7: 36.188602447509766\n",
            "Mean Squared Error 8: 33.822017669677734\n",
            "Mean Squared Error 9: 32.838890075683594\n",
            "Mean Squared Error 10: 30.670433044433594\n",
            "Mean Squared Error 11: 37.040096282958984\n",
            "Mean Squared Error 12: 32.930912017822266\n",
            "Mean Squared Error 13: 36.56557846069336\n",
            "Mean Squared Error 14: 45.1212158203125\n",
            "Mean Squared Error 15: 37.25030517578125\n",
            "Mean Squared Error 16: 30.931026458740234\n",
            "Mean Squared Error 17: 35.09627151489258\n",
            "Mean Squared Error 18: 36.912925720214844\n",
            "Mean Squared Error 19: 33.64012908935547\n",
            "Mean Squared Error 20: 40.337093353271484\n",
            "Mean Squared Error 21: 34.02544403076172\n",
            "Mean Squared Error 22: 37.434749603271484\n",
            "Mean Squared Error 23: 30.181385040283203\n",
            "Mean Squared Error 24: 37.78107833862305\n",
            "Mean Squared Error 25: 36.182830810546875\n",
            "Mean Squared Error 26: 33.54901885986328\n",
            "Mean Squared Error 27: 33.20881271362305\n",
            "Mean Squared Error 28: 35.21651077270508\n",
            "Mean Squared Error 29: 40.52888870239258\n",
            "Mean Squared Error 30: 32.967350006103516\n",
            "Mean Squared Error 31: 35.5694694519043\n",
            "Mean Squared Error 32: 30.893991470336914\n",
            "Mean Squared Error 33: 31.320409774780273\n",
            "Mean Squared Error 34: 35.825401306152344\n",
            "Mean Squared Error 35: 34.17745590209961\n",
            "Mean Squared Error 36: 41.60708236694336\n",
            "Mean Squared Error 37: 34.16971969604492\n",
            "Mean Squared Error 38: 33.40846252441406\n",
            "Mean Squared Error 39: 33.10293197631836\n",
            "Mean Squared Error 40: 30.743759155273438\n",
            "Mean Squared Error 41: 38.85934066772461\n",
            "Mean Squared Error 42: 32.23499298095703\n",
            "Mean Squared Error 43: 33.47402572631836\n",
            "Mean Squared Error 44: 37.00214385986328\n",
            "Mean Squared Error 45: 32.39128875732422\n",
            "Mean Squared Error 46: 37.23125457763672\n",
            "Mean Squared Error 47: 32.09840774536133\n",
            "Mean Squared Error 48: 33.96708679199219\n",
            "Mean Squared Error 49: 35.498863220214844\n",
            "Mean Squared Error 50: 39.294097900390625\n",
            "With normalized data with number of epochs for training is:  50\n",
            "Mean of Mean Squared error :  35.27801413039599\n",
            "Standard Deviation:  3.296085656778403\n"
          ]
        }
      ]
    },
    {
      "cell_type": "markdown",
      "source": [
        "1. Mean of Mean Squared error without normalization of data is 50.22 and with normalization is 35.28\n",
        "2. It can be concluded that normaization of data reduces mean squared error\n"
      ],
      "metadata": {
        "id": "LojceAuvhOxz"
      }
    },
    {
      "cell_type": "code",
      "source": [
        ""
      ],
      "metadata": {
        "id": "QeFCrpE1h83I"
      },
      "execution_count": null,
      "outputs": []
    }
  ]
}
