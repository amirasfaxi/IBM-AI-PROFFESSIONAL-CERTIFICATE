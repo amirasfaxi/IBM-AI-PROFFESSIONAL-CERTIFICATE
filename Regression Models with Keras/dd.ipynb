{
  "nbformat": 4,
  "nbformat_minor": 0,
  "metadata": {
    "colab": {
      "name": "intro_deep_keras_5A.ipynb",
      "provenance": []
    },
    "kernelspec": {
      "name": "python3",
      "display_name": "Python 3"
    },
    "language_info": {
      "name": "python"
    }
  },
  "cells": [
    {
      "cell_type": "markdown",
      "source": [
        "Introduction to Deep Leep Learning and Neural Networks with Keras\n",
        "Week 5 Assignment\n",
        "Build a Regression Model in Keras"
      ],
      "metadata": {
        "id": "tVpI2OZAaOvs"
      }
    },
    {
      "cell_type": "code",
      "execution_count": 1,
      "metadata": {
        "id": "Ilp5siR4aEtV"
      },
      "outputs": [],
      "source": [
        "# import required libraries\n",
        "import pandas as pd # to read csv file into data frame  \n",
        "import numpy as np  # used for working with arrays"
      ]
    },
    {
      "cell_type": "code",
      "source": [
        "# read csv file from the given link into data frame\n",
        "concrete_data=pd.read_csv('https://cocl.us/concrete_data/concrete_data.csv')"
      ],
      "metadata": {
        "id": "R30Ckq_scBvc"
      },
      "execution_count": 2,
      "outputs": []
    },
    {
      "cell_type": "code",
      "source": [
        "# show first 5 rows and predictors of the dataset \n",
        "concrete_data.head()"
      ],
      "metadata": {
        "colab": {
          "base_uri": "https://localhost:8080/",
          "height": 206
        },
        "id": "I0tcZOuIcxDe",
        "outputId": "8ae2a0c2-f5a9-4493-fb29-ef88d78532a9"
      },
      "execution_count": 3,
      "outputs": [
        {
          "output_type": "execute_result",
          "data": {
            "text/plain": [
              "   Cement  Blast Furnace Slag  Fly Ash  Water  Superplasticizer  \\\n",
              "0   540.0                 0.0      0.0  162.0               2.5   \n",
              "1   540.0                 0.0      0.0  162.0               2.5   \n",
              "2   332.5               142.5      0.0  228.0               0.0   \n",
              "3   332.5               142.5      0.0  228.0               0.0   \n",
              "4   198.6               132.4      0.0  192.0               0.0   \n",
              "\n",
              "   Coarse Aggregate  Fine Aggregate  Age  Strength  \n",
              "0            1040.0           676.0   28     79.99  \n",
              "1            1055.0           676.0   28     61.89  \n",
              "2             932.0           594.0  270     40.27  \n",
              "3             932.0           594.0  365     41.05  \n",
              "4             978.4           825.5  360     44.30  "
            ],
            "text/html": [
              "\n",
              "  <div id=\"df-37bea3db-b6f8-40b7-ac34-cde2ab570a01\">\n",
              "    <div class=\"colab-df-container\">\n",
              "      <div>\n",
              "<style scoped>\n",
              "    .dataframe tbody tr th:only-of-type {\n",
              "        vertical-align: middle;\n",
              "    }\n",
              "\n",
              "    .dataframe tbody tr th {\n",
              "        vertical-align: top;\n",
              "    }\n",
              "\n",
              "    .dataframe thead th {\n",
              "        text-align: right;\n",
              "    }\n",
              "</style>\n",
              "<table border=\"1\" class=\"dataframe\">\n",
              "  <thead>\n",
              "    <tr style=\"text-align: right;\">\n",
              "      <th></th>\n",
              "      <th>Cement</th>\n",
              "      <th>Blast Furnace Slag</th>\n",
              "      <th>Fly Ash</th>\n",
              "      <th>Water</th>\n",
              "      <th>Superplasticizer</th>\n",
              "      <th>Coarse Aggregate</th>\n",
              "      <th>Fine Aggregate</th>\n",
              "      <th>Age</th>\n",
              "      <th>Strength</th>\n",
              "    </tr>\n",
              "  </thead>\n",
              "  <tbody>\n",
              "    <tr>\n",
              "      <th>0</th>\n",
              "      <td>540.0</td>\n",
              "      <td>0.0</td>\n",
              "      <td>0.0</td>\n",
              "      <td>162.0</td>\n",
              "      <td>2.5</td>\n",
              "      <td>1040.0</td>\n",
              "      <td>676.0</td>\n",
              "      <td>28</td>\n",
              "      <td>79.99</td>\n",
              "    </tr>\n",
              "    <tr>\n",
              "      <th>1</th>\n",
              "      <td>540.0</td>\n",
              "      <td>0.0</td>\n",
              "      <td>0.0</td>\n",
              "      <td>162.0</td>\n",
              "      <td>2.5</td>\n",
              "      <td>1055.0</td>\n",
              "      <td>676.0</td>\n",
              "      <td>28</td>\n",
              "      <td>61.89</td>\n",
              "    </tr>\n",
              "    <tr>\n",
              "      <th>2</th>\n",
              "      <td>332.5</td>\n",
              "      <td>142.5</td>\n",
              "      <td>0.0</td>\n",
              "      <td>228.0</td>\n",
              "      <td>0.0</td>\n",
              "      <td>932.0</td>\n",
              "      <td>594.0</td>\n",
              "      <td>270</td>\n",
              "      <td>40.27</td>\n",
              "    </tr>\n",
              "    <tr>\n",
              "      <th>3</th>\n",
              "      <td>332.5</td>\n",
              "      <td>142.5</td>\n",
              "      <td>0.0</td>\n",
              "      <td>228.0</td>\n",
              "      <td>0.0</td>\n",
              "      <td>932.0</td>\n",
              "      <td>594.0</td>\n",
              "      <td>365</td>\n",
              "      <td>41.05</td>\n",
              "    </tr>\n",
              "    <tr>\n",
              "      <th>4</th>\n",
              "      <td>198.6</td>\n",
              "      <td>132.4</td>\n",
              "      <td>0.0</td>\n",
              "      <td>192.0</td>\n",
              "      <td>0.0</td>\n",
              "      <td>978.4</td>\n",
              "      <td>825.5</td>\n",
              "      <td>360</td>\n",
              "      <td>44.30</td>\n",
              "    </tr>\n",
              "  </tbody>\n",
              "</table>\n",
              "</div>\n",
              "      <button class=\"colab-df-convert\" onclick=\"convertToInteractive('df-37bea3db-b6f8-40b7-ac34-cde2ab570a01')\"\n",
              "              title=\"Convert this dataframe to an interactive table.\"\n",
              "              style=\"display:none;\">\n",
              "        \n",
              "  <svg xmlns=\"http://www.w3.org/2000/svg\" height=\"24px\"viewBox=\"0 0 24 24\"\n",
              "       width=\"24px\">\n",
              "    <path d=\"M0 0h24v24H0V0z\" fill=\"none\"/>\n",
              "    <path d=\"M18.56 5.44l.94 2.06.94-2.06 2.06-.94-2.06-.94-.94-2.06-.94 2.06-2.06.94zm-11 1L8.5 8.5l.94-2.06 2.06-.94-2.06-.94L8.5 2.5l-.94 2.06-2.06.94zm10 10l.94 2.06.94-2.06 2.06-.94-2.06-.94-.94-2.06-.94 2.06-2.06.94z\"/><path d=\"M17.41 7.96l-1.37-1.37c-.4-.4-.92-.59-1.43-.59-.52 0-1.04.2-1.43.59L10.3 9.45l-7.72 7.72c-.78.78-.78 2.05 0 2.83L4 21.41c.39.39.9.59 1.41.59.51 0 1.02-.2 1.41-.59l7.78-7.78 2.81-2.81c.8-.78.8-2.07 0-2.86zM5.41 20L4 18.59l7.72-7.72 1.47 1.35L5.41 20z\"/>\n",
              "  </svg>\n",
              "      </button>\n",
              "      \n",
              "  <style>\n",
              "    .colab-df-container {\n",
              "      display:flex;\n",
              "      flex-wrap:wrap;\n",
              "      gap: 12px;\n",
              "    }\n",
              "\n",
              "    .colab-df-convert {\n",
              "      background-color: #E8F0FE;\n",
              "      border: none;\n",
              "      border-radius: 50%;\n",
              "      cursor: pointer;\n",
              "      display: none;\n",
              "      fill: #1967D2;\n",
              "      height: 32px;\n",
              "      padding: 0 0 0 0;\n",
              "      width: 32px;\n",
              "    }\n",
              "\n",
              "    .colab-df-convert:hover {\n",
              "      background-color: #E2EBFA;\n",
              "      box-shadow: 0px 1px 2px rgba(60, 64, 67, 0.3), 0px 1px 3px 1px rgba(60, 64, 67, 0.15);\n",
              "      fill: #174EA6;\n",
              "    }\n",
              "\n",
              "    [theme=dark] .colab-df-convert {\n",
              "      background-color: #3B4455;\n",
              "      fill: #D2E3FC;\n",
              "    }\n",
              "\n",
              "    [theme=dark] .colab-df-convert:hover {\n",
              "      background-color: #434B5C;\n",
              "      box-shadow: 0px 1px 3px 1px rgba(0, 0, 0, 0.15);\n",
              "      filter: drop-shadow(0px 1px 2px rgba(0, 0, 0, 0.3));\n",
              "      fill: #FFFFFF;\n",
              "    }\n",
              "  </style>\n",
              "\n",
              "      <script>\n",
              "        const buttonEl =\n",
              "          document.querySelector('#df-37bea3db-b6f8-40b7-ac34-cde2ab570a01 button.colab-df-convert');\n",
              "        buttonEl.style.display =\n",
              "          google.colab.kernel.accessAllowed ? 'block' : 'none';\n",
              "\n",
              "        async function convertToInteractive(key) {\n",
              "          const element = document.querySelector('#df-37bea3db-b6f8-40b7-ac34-cde2ab570a01');\n",
              "          const dataTable =\n",
              "            await google.colab.kernel.invokeFunction('convertToInteractive',\n",
              "                                                     [key], {});\n",
              "          if (!dataTable) return;\n",
              "\n",
              "          const docLinkHtml = 'Like what you see? Visit the ' +\n",
              "            '<a target=\"_blank\" href=https://colab.research.google.com/notebooks/data_table.ipynb>data table notebook</a>'\n",
              "            + ' to learn more about interactive tables.';\n",
              "          element.innerHTML = '';\n",
              "          dataTable['output_type'] = 'display_data';\n",
              "          await google.colab.output.renderOutput(dataTable, element);\n",
              "          const docLink = document.createElement('div');\n",
              "          docLink.innerHTML = docLinkHtml;\n",
              "          element.appendChild(docLink);\n",
              "        }\n",
              "      </script>\n",
              "    </div>\n",
              "  </div>\n",
              "  "
            ]
          },
          "metadata": {},
          "execution_count": 3
        }
      ]
    },
    {
      "cell_type": "code",
      "source": [
        "#concrete_data=concrete_data.drop(['Age'],axis=1)\n",
        "#concrete_data.head()"
      ],
      "metadata": {
        "id": "EEOOBWcneP0L"
      },
      "execution_count": 4,
      "outputs": []
    },
    {
      "cell_type": "code",
      "source": [
        "concrete_data.shape"
      ],
      "metadata": {
        "colab": {
          "base_uri": "https://localhost:8080/"
        },
        "id": "amz9NoWzfo2q",
        "outputId": "ad4b5536-c4b3-44fb-9735-27706b80a907"
      },
      "execution_count": 5,
      "outputs": [
        {
          "output_type": "execute_result",
          "data": {
            "text/plain": [
              "(1030, 9)"
            ]
          },
          "metadata": {},
          "execution_count": 5
        }
      ]
    },
    {
      "cell_type": "markdown",
      "source": [
        "Data set has 1030 samples and 8 predictors to predict the target value which is concrete strength\n"
      ],
      "metadata": {
        "id": "CC-AAw2Zf52T"
      }
    },
    {
      "cell_type": "markdown",
      "source": [
        "Concrete strength is depepndent on Cement, Blast Furnace slag, Fly Ash, Water, Superlasticizer, Coarse Aggregate, Fine Aggregate and Age of cement"
      ],
      "metadata": {
        "id": "ahefgSy4gInU"
      }
    },
    {
      "cell_type": "markdown",
      "source": [
        "Check if the data set has any missing value"
      ],
      "metadata": {
        "id": "CYfvhzkagm3W"
      }
    },
    {
      "cell_type": "code",
      "source": [
        "concrete_data.isnull().sum()"
      ],
      "metadata": {
        "colab": {
          "base_uri": "https://localhost:8080/"
        },
        "id": "YEr5iHLjgcZ1",
        "outputId": "6da4151f-556a-4a02-c0c4-ef78de3c7b09"
      },
      "execution_count": 6,
      "outputs": [
        {
          "output_type": "execute_result",
          "data": {
            "text/plain": [
              "Cement                0\n",
              "Blast Furnace Slag    0\n",
              "Fly Ash               0\n",
              "Water                 0\n",
              "Superplasticizer      0\n",
              "Coarse Aggregate      0\n",
              "Fine Aggregate        0\n",
              "Age                   0\n",
              "Strength              0\n",
              "dtype: int64"
            ]
          },
          "metadata": {},
          "execution_count": 6
        }
      ]
    },
    {
      "cell_type": "markdown",
      "source": [
        "There is no null value/missing value in the given dataset"
      ],
      "metadata": {
        "id": "5YgxN4s4gwCq"
      }
    },
    {
      "cell_type": "code",
      "source": [
        "predictors = concrete_data[['Cement','Blast Furnace Slag','Fly Ash','Water','Superplasticizer','Coarse Aggregate','Fine Aggregate','Age']] # all columns except 'Strngth' are predictors \n",
        "target = concrete_data['Strength'] # Target is Strength"
      ],
      "metadata": {
        "id": "FCMCAJ7Ag2AS"
      },
      "execution_count": 7,
      "outputs": []
    },
    {
      "cell_type": "code",
      "source": [
        "# check predictors\n",
        "predictors.head()"
      ],
      "metadata": {
        "colab": {
          "base_uri": "https://localhost:8080/",
          "height": 206
        },
        "id": "p4l6059AjzfN",
        "outputId": "4aa8c05a-7096-4651-f11d-fc30c76e0e1d"
      },
      "execution_count": 8,
      "outputs": [
        {
          "output_type": "execute_result",
          "data": {
            "text/plain": [
              "   Cement  Blast Furnace Slag  Fly Ash  Water  Superplasticizer  \\\n",
              "0   540.0                 0.0      0.0  162.0               2.5   \n",
              "1   540.0                 0.0      0.0  162.0               2.5   \n",
              "2   332.5               142.5      0.0  228.0               0.0   \n",
              "3   332.5               142.5      0.0  228.0               0.0   \n",
              "4   198.6               132.4      0.0  192.0               0.0   \n",
              "\n",
              "   Coarse Aggregate  Fine Aggregate  Age  \n",
              "0            1040.0           676.0   28  \n",
              "1            1055.0           676.0   28  \n",
              "2             932.0           594.0  270  \n",
              "3             932.0           594.0  365  \n",
              "4             978.4           825.5  360  "
            ],
            "text/html": [
              "\n",
              "  <div id=\"df-4ec6aa45-6cf5-48a9-b069-908f082311fa\">\n",
              "    <div class=\"colab-df-container\">\n",
              "      <div>\n",
              "<style scoped>\n",
              "    .dataframe tbody tr th:only-of-type {\n",
              "        vertical-align: middle;\n",
              "    }\n",
              "\n",
              "    .dataframe tbody tr th {\n",
              "        vertical-align: top;\n",
              "    }\n",
              "\n",
              "    .dataframe thead th {\n",
              "        text-align: right;\n",
              "    }\n",
              "</style>\n",
              "<table border=\"1\" class=\"dataframe\">\n",
              "  <thead>\n",
              "    <tr style=\"text-align: right;\">\n",
              "      <th></th>\n",
              "      <th>Cement</th>\n",
              "      <th>Blast Furnace Slag</th>\n",
              "      <th>Fly Ash</th>\n",
              "      <th>Water</th>\n",
              "      <th>Superplasticizer</th>\n",
              "      <th>Coarse Aggregate</th>\n",
              "      <th>Fine Aggregate</th>\n",
              "      <th>Age</th>\n",
              "    </tr>\n",
              "  </thead>\n",
              "  <tbody>\n",
              "    <tr>\n",
              "      <th>0</th>\n",
              "      <td>540.0</td>\n",
              "      <td>0.0</td>\n",
              "      <td>0.0</td>\n",
              "      <td>162.0</td>\n",
              "      <td>2.5</td>\n",
              "      <td>1040.0</td>\n",
              "      <td>676.0</td>\n",
              "      <td>28</td>\n",
              "    </tr>\n",
              "    <tr>\n",
              "      <th>1</th>\n",
              "      <td>540.0</td>\n",
              "      <td>0.0</td>\n",
              "      <td>0.0</td>\n",
              "      <td>162.0</td>\n",
              "      <td>2.5</td>\n",
              "      <td>1055.0</td>\n",
              "      <td>676.0</td>\n",
              "      <td>28</td>\n",
              "    </tr>\n",
              "    <tr>\n",
              "      <th>2</th>\n",
              "      <td>332.5</td>\n",
              "      <td>142.5</td>\n",
              "      <td>0.0</td>\n",
              "      <td>228.0</td>\n",
              "      <td>0.0</td>\n",
              "      <td>932.0</td>\n",
              "      <td>594.0</td>\n",
              "      <td>270</td>\n",
              "    </tr>\n",
              "    <tr>\n",
              "      <th>3</th>\n",
              "      <td>332.5</td>\n",
              "      <td>142.5</td>\n",
              "      <td>0.0</td>\n",
              "      <td>228.0</td>\n",
              "      <td>0.0</td>\n",
              "      <td>932.0</td>\n",
              "      <td>594.0</td>\n",
              "      <td>365</td>\n",
              "    </tr>\n",
              "    <tr>\n",
              "      <th>4</th>\n",
              "      <td>198.6</td>\n",
              "      <td>132.4</td>\n",
              "      <td>0.0</td>\n",
              "      <td>192.0</td>\n",
              "      <td>0.0</td>\n",
              "      <td>978.4</td>\n",
              "      <td>825.5</td>\n",
              "      <td>360</td>\n",
              "    </tr>\n",
              "  </tbody>\n",
              "</table>\n",
              "</div>\n",
              "      <button class=\"colab-df-convert\" onclick=\"convertToInteractive('df-4ec6aa45-6cf5-48a9-b069-908f082311fa')\"\n",
              "              title=\"Convert this dataframe to an interactive table.\"\n",
              "              style=\"display:none;\">\n",
              "        \n",
              "  <svg xmlns=\"http://www.w3.org/2000/svg\" height=\"24px\"viewBox=\"0 0 24 24\"\n",
              "       width=\"24px\">\n",
              "    <path d=\"M0 0h24v24H0V0z\" fill=\"none\"/>\n",
              "    <path d=\"M18.56 5.44l.94 2.06.94-2.06 2.06-.94-2.06-.94-.94-2.06-.94 2.06-2.06.94zm-11 1L8.5 8.5l.94-2.06 2.06-.94-2.06-.94L8.5 2.5l-.94 2.06-2.06.94zm10 10l.94 2.06.94-2.06 2.06-.94-2.06-.94-.94-2.06-.94 2.06-2.06.94z\"/><path d=\"M17.41 7.96l-1.37-1.37c-.4-.4-.92-.59-1.43-.59-.52 0-1.04.2-1.43.59L10.3 9.45l-7.72 7.72c-.78.78-.78 2.05 0 2.83L4 21.41c.39.39.9.59 1.41.59.51 0 1.02-.2 1.41-.59l7.78-7.78 2.81-2.81c.8-.78.8-2.07 0-2.86zM5.41 20L4 18.59l7.72-7.72 1.47 1.35L5.41 20z\"/>\n",
              "  </svg>\n",
              "      </button>\n",
              "      \n",
              "  <style>\n",
              "    .colab-df-container {\n",
              "      display:flex;\n",
              "      flex-wrap:wrap;\n",
              "      gap: 12px;\n",
              "    }\n",
              "\n",
              "    .colab-df-convert {\n",
              "      background-color: #E8F0FE;\n",
              "      border: none;\n",
              "      border-radius: 50%;\n",
              "      cursor: pointer;\n",
              "      display: none;\n",
              "      fill: #1967D2;\n",
              "      height: 32px;\n",
              "      padding: 0 0 0 0;\n",
              "      width: 32px;\n",
              "    }\n",
              "\n",
              "    .colab-df-convert:hover {\n",
              "      background-color: #E2EBFA;\n",
              "      box-shadow: 0px 1px 2px rgba(60, 64, 67, 0.3), 0px 1px 3px 1px rgba(60, 64, 67, 0.15);\n",
              "      fill: #174EA6;\n",
              "    }\n",
              "\n",
              "    [theme=dark] .colab-df-convert {\n",
              "      background-color: #3B4455;\n",
              "      fill: #D2E3FC;\n",
              "    }\n",
              "\n",
              "    [theme=dark] .colab-df-convert:hover {\n",
              "      background-color: #434B5C;\n",
              "      box-shadow: 0px 1px 3px 1px rgba(0, 0, 0, 0.15);\n",
              "      filter: drop-shadow(0px 1px 2px rgba(0, 0, 0, 0.3));\n",
              "      fill: #FFFFFF;\n",
              "    }\n",
              "  </style>\n",
              "\n",
              "      <script>\n",
              "        const buttonEl =\n",
              "          document.querySelector('#df-4ec6aa45-6cf5-48a9-b069-908f082311fa button.colab-df-convert');\n",
              "        buttonEl.style.display =\n",
              "          google.colab.kernel.accessAllowed ? 'block' : 'none';\n",
              "\n",
              "        async function convertToInteractive(key) {\n",
              "          const element = document.querySelector('#df-4ec6aa45-6cf5-48a9-b069-908f082311fa');\n",
              "          const dataTable =\n",
              "            await google.colab.kernel.invokeFunction('convertToInteractive',\n",
              "                                                     [key], {});\n",
              "          if (!dataTable) return;\n",
              "\n",
              "          const docLinkHtml = 'Like what you see? Visit the ' +\n",
              "            '<a target=\"_blank\" href=https://colab.research.google.com/notebooks/data_table.ipynb>data table notebook</a>'\n",
              "            + ' to learn more about interactive tables.';\n",
              "          element.innerHTML = '';\n",
              "          dataTable['output_type'] = 'display_data';\n",
              "          await google.colab.output.renderOutput(dataTable, element);\n",
              "          const docLink = document.createElement('div');\n",
              "          docLink.innerHTML = docLinkHtml;\n",
              "          element.appendChild(docLink);\n",
              "        }\n",
              "      </script>\n",
              "    </div>\n",
              "  </div>\n",
              "  "
            ]
          },
          "metadata": {},
          "execution_count": 8
        }
      ]
    },
    {
      "cell_type": "code",
      "source": [
        "[row,col]=predictors.shape\n",
        "print('Number of columns are: ',col)"
      ],
      "metadata": {
        "colab": {
          "base_uri": "https://localhost:8080/"
        },
        "id": "QvcK4M3MlRn5",
        "outputId": "d1ee5ef7-1a9d-4d01-b94b-f817fc5d1fd6"
      },
      "execution_count": 9,
      "outputs": [
        {
          "output_type": "stream",
          "name": "stdout",
          "text": [
            "Number of columns are:  8\n"
          ]
        }
      ]
    },
    {
      "cell_type": "code",
      "source": [
        "# check target\n",
        "target.head()"
      ],
      "metadata": {
        "colab": {
          "base_uri": "https://localhost:8080/"
        },
        "id": "MRwGzJsukDyH",
        "outputId": "4e7aa708-664c-4b08-e8c9-0022d5212d95"
      },
      "execution_count": 10,
      "outputs": [
        {
          "output_type": "execute_result",
          "data": {
            "text/plain": [
              "0    79.99\n",
              "1    61.89\n",
              "2    40.27\n",
              "3    41.05\n",
              "4    44.30\n",
              "Name: Strength, dtype: float64"
            ]
          },
          "metadata": {},
          "execution_count": 10
        }
      ]
    },
    {
      "cell_type": "code",
      "source": [
        "# import keras for builiding and fitting the model\n",
        "import keras \n",
        "from keras.models import Sequential  # model type\n",
        "from keras.layers import Dense  # hidden layers"
      ],
      "metadata": {
        "id": "_wbVVz2ukKDW"
      },
      "execution_count": 11,
      "outputs": []
    },
    {
      "cell_type": "code",
      "source": [
        "# definition to build regression model\n",
        "def regression_model():\n",
        "    # sequential type\n",
        "    reg_model = Sequential()\n",
        "    # 10 nodes in hidden layer, number of predictor columns in input layer\n",
        "    reg_model.add(Dense(10, activation='relu', input_shape=(col,)))\n",
        "    # one node in output layer \n",
        "    reg_model.add(Dense(1))\n",
        "    \n",
        "    # compile model\n",
        "    reg_model.compile(optimizer='adam', loss='mean_squared_error')\n",
        "    return reg_model"
      ],
      "metadata": {
        "id": "0VnsAtpvkzWg"
      },
      "execution_count": 12,
      "outputs": []
    },
    {
      "cell_type": "markdown",
      "source": [
        "Using library sklearn, rRandomly split dataframe into train and test sets "
      ],
      "metadata": {
        "id": "vSp9acvUmOFS"
      }
    },
    {
      "cell_type": "code",
      "source": [
        "from sklearn.model_selection import train_test_split"
      ],
      "metadata": {
        "id": "dzPS3ClRmOjZ"
      },
      "execution_count": 13,
      "outputs": []
    },
    {
      "cell_type": "markdown",
      "source": [
        "80% of the datframe is train and 20% is test\n",
        "Seed of random state is fixed which uses the same split even if this code is executed multiple times  "
      ],
      "metadata": {
        "id": "mu-BghlHmqin"
      }
    },
    {
      "cell_type": "code",
      "source": [
        "X_train, X_test, y_train, y_test = train_test_split(predictors, target, test_size=0.2, random_state= 10)"
      ],
      "metadata": {
        "id": "-JAN7yOImiJp"
      },
      "execution_count": 14,
      "outputs": []
    },
    {
      "cell_type": "code",
      "source": [
        "# build the model\n",
        "model = regression_model()"
      ],
      "metadata": {
        "id": "YvQ83LwqnPUW"
      },
      "execution_count": 15,
      "outputs": []
    },
    {
      "cell_type": "code",
      "source": [
        "# train model using 50 epochs\n",
        "epochs = 50\n",
        "model.fit(X_train, y_train, epochs=epochs, verbose=1)"
      ],
      "metadata": {
        "colab": {
          "base_uri": "https://localhost:8080/"
        },
        "id": "3eoYZiR4nc0-",
        "outputId": "c63b5330-2363-4f5f-d7ab-b8cc10ca74ac"
      },
      "execution_count": 16,
      "outputs": [
        {
          "output_type": "stream",
          "name": "stdout",
          "text": [
            "Epoch 1/50\n",
            "26/26 [==============================] - 1s 6ms/step - loss: 29971.1426\n",
            "Epoch 2/50\n",
            "26/26 [==============================] - 0s 3ms/step - loss: 4193.4155\n",
            "Epoch 3/50\n",
            "26/26 [==============================] - 0s 2ms/step - loss: 1844.0699\n",
            "Epoch 4/50\n",
            "26/26 [==============================] - 0s 2ms/step - loss: 1420.7780\n",
            "Epoch 5/50\n",
            "26/26 [==============================] - 0s 3ms/step - loss: 1134.6667\n",
            "Epoch 6/50\n",
            "26/26 [==============================] - 0s 4ms/step - loss: 894.1552\n",
            "Epoch 7/50\n",
            "26/26 [==============================] - 0s 6ms/step - loss: 727.4612\n",
            "Epoch 8/50\n",
            "26/26 [==============================] - 0s 3ms/step - loss: 605.6348\n",
            "Epoch 9/50\n",
            "26/26 [==============================] - 0s 2ms/step - loss: 520.4601\n",
            "Epoch 10/50\n",
            "26/26 [==============================] - 0s 3ms/step - loss: 450.6211\n",
            "Epoch 11/50\n",
            "26/26 [==============================] - 0s 2ms/step - loss: 407.2305\n",
            "Epoch 12/50\n",
            "26/26 [==============================] - 0s 2ms/step - loss: 369.3348\n",
            "Epoch 13/50\n",
            "26/26 [==============================] - 0s 3ms/step - loss: 341.6023\n",
            "Epoch 14/50\n",
            "26/26 [==============================] - 0s 4ms/step - loss: 318.7778\n",
            "Epoch 15/50\n",
            "26/26 [==============================] - 0s 3ms/step - loss: 300.8730\n",
            "Epoch 16/50\n",
            "26/26 [==============================] - 0s 5ms/step - loss: 285.8596\n",
            "Epoch 17/50\n",
            "26/26 [==============================] - 0s 3ms/step - loss: 273.1325\n",
            "Epoch 18/50\n",
            "26/26 [==============================] - 0s 4ms/step - loss: 262.9133\n",
            "Epoch 19/50\n",
            "26/26 [==============================] - 0s 3ms/step - loss: 253.6786\n",
            "Epoch 20/50\n",
            "26/26 [==============================] - 0s 3ms/step - loss: 244.5483\n",
            "Epoch 21/50\n",
            "26/26 [==============================] - 0s 3ms/step - loss: 237.2936\n",
            "Epoch 22/50\n",
            "26/26 [==============================] - 0s 4ms/step - loss: 230.1387\n",
            "Epoch 23/50\n",
            "26/26 [==============================] - 0s 4ms/step - loss: 224.9442\n",
            "Epoch 24/50\n",
            "26/26 [==============================] - 0s 2ms/step - loss: 218.1587\n",
            "Epoch 25/50\n",
            "26/26 [==============================] - 0s 2ms/step - loss: 215.0553\n",
            "Epoch 26/50\n",
            "26/26 [==============================] - 0s 3ms/step - loss: 209.8774\n",
            "Epoch 27/50\n",
            "26/26 [==============================] - 0s 2ms/step - loss: 204.5398\n",
            "Epoch 28/50\n",
            "26/26 [==============================] - 0s 2ms/step - loss: 201.5033\n",
            "Epoch 29/50\n",
            "26/26 [==============================] - 0s 3ms/step - loss: 197.2486\n",
            "Epoch 30/50\n",
            "26/26 [==============================] - 0s 2ms/step - loss: 194.1703\n",
            "Epoch 31/50\n",
            "26/26 [==============================] - 0s 3ms/step - loss: 192.1369\n",
            "Epoch 32/50\n",
            "26/26 [==============================] - 0s 5ms/step - loss: 187.5405\n",
            "Epoch 33/50\n",
            "26/26 [==============================] - 0s 3ms/step - loss: 185.4598\n",
            "Epoch 34/50\n",
            "26/26 [==============================] - 0s 2ms/step - loss: 182.1637\n",
            "Epoch 35/50\n",
            "26/26 [==============================] - 0s 3ms/step - loss: 180.0151\n",
            "Epoch 36/50\n",
            "26/26 [==============================] - 0s 2ms/step - loss: 177.4444\n",
            "Epoch 37/50\n",
            "26/26 [==============================] - 0s 3ms/step - loss: 175.7303\n",
            "Epoch 38/50\n",
            "26/26 [==============================] - 0s 3ms/step - loss: 173.7542\n",
            "Epoch 39/50\n",
            "26/26 [==============================] - 0s 4ms/step - loss: 170.6941\n",
            "Epoch 40/50\n",
            "26/26 [==============================] - 0s 2ms/step - loss: 168.1822\n",
            "Epoch 41/50\n",
            "26/26 [==============================] - 0s 3ms/step - loss: 167.5545\n",
            "Epoch 42/50\n",
            "26/26 [==============================] - 0s 5ms/step - loss: 164.9158\n",
            "Epoch 43/50\n",
            "26/26 [==============================] - 0s 2ms/step - loss: 162.3540\n",
            "Epoch 44/50\n",
            "26/26 [==============================] - 0s 3ms/step - loss: 161.4182\n",
            "Epoch 45/50\n",
            "26/26 [==============================] - 0s 4ms/step - loss: 159.8055\n",
            "Epoch 46/50\n",
            "26/26 [==============================] - 0s 6ms/step - loss: 160.7747\n",
            "Epoch 47/50\n",
            "26/26 [==============================] - 0s 6ms/step - loss: 159.3423\n",
            "Epoch 48/50\n",
            "26/26 [==============================] - 0s 4ms/step - loss: 158.2858\n",
            "Epoch 49/50\n",
            "26/26 [==============================] - 0s 3ms/step - loss: 154.8795\n",
            "Epoch 50/50\n",
            "26/26 [==============================] - 0s 5ms/step - loss: 153.4726\n"
          ]
        },
        {
          "output_type": "execute_result",
          "data": {
            "text/plain": [
              "<keras.callbacks.History at 0x7fc54cf4bd50>"
            ]
          },
          "metadata": {},
          "execution_count": 16
        }
      ]
    },
    {
      "cell_type": "markdown",
      "source": [
        "Predict concrete strength using trained model"
      ],
      "metadata": {
        "id": "wExZ2u34oyfL"
      }
    },
    {
      "cell_type": "code",
      "source": [
        "y_predict = model.predict(X_test)"
      ],
      "metadata": {
        "id": "cG1FoIdVn2lp"
      },
      "execution_count": 17,
      "outputs": []
    },
    {
      "cell_type": "code",
      "source": [
        "# evaluate model\n",
        "# import library to calculate mean square error\n",
        "from sklearn.metrics import mean_squared_error"
      ],
      "metadata": {
        "id": "UntN-fT7o9LS"
      },
      "execution_count": 18,
      "outputs": []
    },
    {
      "cell_type": "code",
      "source": [
        "mse = mean_squared_error(y_test, y_predict)\n",
        "mean = np.mean(mse)\n",
        "stand_dev = np.std(mse)\n",
        "print('Mean of mean square error: ', mean)\n",
        "print('Standard Deviation of mean square error: ',stand_dev )"
      ],
      "metadata": {
        "colab": {
          "base_uri": "https://localhost:8080/"
        },
        "id": "fV-MQwIqpigk",
        "outputId": "159345a7-4392-41cc-b0df-ddf3ff9d45b6"
      },
      "execution_count": 19,
      "outputs": [
        {
          "output_type": "stream",
          "name": "stdout",
          "text": [
            "Mean of mean square error:  124.07242787861834\n",
            "Standard Deviation of mean square error:  0.0\n"
          ]
        }
      ]
    },
    {
      "cell_type": "code",
      "source": [
        "numb_mse = 50\n",
        "epochs = 50\n",
        "mean_square_error = []\n",
        "for i in range(0, numb_mse):\n",
        "    X_train, X_test, y_train, y_test = train_test_split(predictors, target, test_size=0.2, random_state=i)\n",
        "    model.fit(X_train, y_train, epochs=epochs, verbose=0)\n",
        "    mse = model.evaluate(X_test, y_test, verbose=0)\n",
        "    print(\"Mean Squared Error \"+str(i+1)+\": \"+str(mse))\n",
        "    y_predict = model.predict(X_test)\n",
        "    mse_i = mean_squared_error(y_test, y_predict)\n",
        "    mean_square_error.append(mse_i)\n",
        "\n",
        "mean_square_error = np.array(mean_square_error)\n",
        "mean = np.mean(mean_square_error)\n",
        "stand_dev = np.std(mean_square_error)\n",
        "\n",
        "print('without normalized data with number of epochs for training is: ', epochs)\n",
        "print(\"Mean of Mean Squared error : \", mean)\n",
        "print(\"Standard Deviation: \", stand_dev)"
      ],
      "metadata": {
        "colab": {
          "base_uri": "https://localhost:8080/"
        },
        "id": "_Tyk-aXoqaTV",
        "outputId": "f03efe1f-d8c3-4fc8-cacb-d89a5d5a35a8"
      },
      "execution_count": 20,
      "outputs": [
        {
          "output_type": "stream",
          "name": "stdout",
          "text": [
            "Mean Squared Error 1: 104.011962890625\n",
            "Mean Squared Error 2: 103.3069839477539\n",
            "Mean Squared Error 3: 66.76934814453125\n",
            "Mean Squared Error 4: 66.58350372314453\n",
            "Mean Squared Error 5: 63.37704849243164\n",
            "Mean Squared Error 6: 60.115211486816406\n",
            "Mean Squared Error 7: 53.02700424194336\n",
            "Mean Squared Error 8: 48.52996063232422\n",
            "Mean Squared Error 9: 47.417362213134766\n",
            "Mean Squared Error 10: 45.731109619140625\n",
            "Mean Squared Error 11: 45.721641540527344\n",
            "Mean Squared Error 12: 42.5257453918457\n",
            "Mean Squared Error 13: 44.689369201660156\n",
            "Mean Squared Error 14: 56.30199432373047\n",
            "Mean Squared Error 15: 46.007205963134766\n",
            "Mean Squared Error 16: 47.00111770629883\n",
            "Mean Squared Error 17: 46.38343048095703\n",
            "Mean Squared Error 18: 53.34968948364258\n",
            "Mean Squared Error 19: 42.79705810546875\n",
            "Mean Squared Error 20: 46.41114044189453\n",
            "Mean Squared Error 21: 41.47123718261719\n",
            "Mean Squared Error 22: 44.738033294677734\n",
            "Mean Squared Error 23: 43.0804443359375\n",
            "Mean Squared Error 24: 49.574039459228516\n",
            "Mean Squared Error 25: 50.924903869628906\n",
            "Mean Squared Error 26: 44.34019088745117\n",
            "Mean Squared Error 27: 42.59881591796875\n",
            "Mean Squared Error 28: 56.56923294067383\n",
            "Mean Squared Error 29: 54.5889892578125\n",
            "Mean Squared Error 30: 44.05939865112305\n",
            "Mean Squared Error 31: 55.88701629638672\n",
            "Mean Squared Error 32: 39.0512809753418\n",
            "Mean Squared Error 33: 47.854331970214844\n",
            "Mean Squared Error 34: 39.21696090698242\n",
            "Mean Squared Error 35: 42.755741119384766\n",
            "Mean Squared Error 36: 58.64488220214844\n",
            "Mean Squared Error 37: 45.62287139892578\n",
            "Mean Squared Error 38: 43.05426025390625\n",
            "Mean Squared Error 39: 54.68291091918945\n",
            "Mean Squared Error 40: 39.60322570800781\n",
            "Mean Squared Error 41: 45.592926025390625\n",
            "Mean Squared Error 42: 38.84709930419922\n",
            "Mean Squared Error 43: 35.057071685791016\n",
            "Mean Squared Error 44: 46.22203063964844\n",
            "Mean Squared Error 45: 45.0951042175293\n",
            "Mean Squared Error 46: 57.4725456237793\n",
            "Mean Squared Error 47: 39.8239860534668\n",
            "Mean Squared Error 48: 40.72406005859375\n",
            "Mean Squared Error 49: 47.6905632019043\n",
            "Mean Squared Error 50: 45.89424133300781\n",
            "without normalized data with number of epochs for training is:  50\n",
            "Mean of Mean Squared error :  50.2159244983864\n",
            "Standard Deviation:  13.034683860078308\n"
          ]
        }
      ]
    }
  ]
}
